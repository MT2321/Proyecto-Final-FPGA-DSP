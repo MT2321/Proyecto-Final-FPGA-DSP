{
 "cells": [
  {
   "cell_type": "code",
   "execution_count": null,
   "metadata": {},
   "outputs": [],
   "source": [
    "NUMBER_TAPS = 10\n",
    "NUMBER_BITS_COEFS = 8\n",
    "NUMBER_BITS_SAMPLES = 12\n",
    "NUMBER_BITS_MULTIPLICATION = 20\n",
    "# NUMBER BITS ADDITION INCREASE WITH EACH STAGE "
   ]
  },
  {
   "cell_type": "code",
   "execution_count": 65,
   "metadata": {},
   "outputs": [],
   "source": [
    "vhdl_components = []\n",
    "vhdl_header = '''\n",
    " LIBRARY IEEE;\n",
    " USE IEEE.std_logic_1164.all;\n",
    " USE IEEE.numeric_std.ALL;\n",
    " \n",
    " ENTITY FIR_IAN IS\n",
    "    PORT( clk                             :   IN    std_logic; \n",
    "          clk_enable                      :   IN    std_logic; \n",
    "          reset                           :   IN    std_logic; \n",
    "          filter_in                       :   IN    std_logic_vector(11 DOWNTO 0); -- sfix16_En15\n",
    "          filter_out                      :   OUT   std_logic_vector(28 DOWNTO 0)  -- sfix33_En31\n",
    "          );\n",
    " \n",
    " END FIR_IAN;\n",
    "'''\n",
    "vhdl_architechture_header = '''\n",
    " ----------------------------------------------------------------\n",
    " --Module Architecture: FIR_IAN\n",
    " ----------------------------------------------------------------\n",
    " ARCHITECTURE rtl OF FIR_IAN IS\n",
    "   -- Local Functions\n",
    "   -- Type Definitions\n",
    "   TYPE delay_pipeline_type IS ARRAY (NATURAL range <>) OF signed(11 DOWNTO 0); -- sfix16_En15\n",
    "   -- Constants\n",
    "   CONSTANT coeff1                         : signed(7 DOWNTO 0) := to_signed(-1, 8); -- sfix16_En16\n",
    "'''\n",
    "# COEFS\n",
    "#lambda expression that returns a string with a template\n",
    "vhdl_coef_template = lambda index, coef: f\"CONSTANT coeff{index}                         : signed(7 DOWNTO 0) := to_signed({coef}, {NUMBER_BITS_COEFS});\"\n",
    "vhdl_coefs = [vhdl_coef_template(index, coef) for index, coef in enumerate(range(NUMBER_TAPS))]\n",
    "#join vhdl_coefs a string separated by a new line character\n",
    "vhdl_coefs = '\\n'.join(vhdl_coefs) \n",
    "\n",
    "\n",
    "vhdl_delay_pipeline_template = lambda index: f\"signal delay_pipeline : delay_pipeline_type(0 to {NUMBER_TAPS-1});\"\n",
    "# Product template\n",
    "#lambda expression that returns a string with a template\n",
    "vhdl_signal_product_template = lambda index, coef: f\"SIGNAL product{index}                         : signed({NUMBER_BITS_MULTIPLICATION-1} DOWNTO 0);\"\n",
    "vhdl_signal_product = [vhdl_signal_product_template(index, coef) for index, coef in enumerate(range(NUMBER_TAPS))]\n",
    "vhdl_signal_product = '\\n'.join(vhdl_signal_product) \n",
    "\n",
    "vhdl_signal_mul_temp_template = lambda index, coef: f\"SIGNAL mul_temp{'' if index==0 else '_'+str(index)}                         : signed({NUMBER_BITS_MULTIPLICATION-1} DOWNTO 0);\"\n",
    "vhdl_signal_mul_temp = [vhdl_signal_mul_temp_template(index, coef) for index, coef in enumerate(range(NUMBER_TAPS))]\n",
    "vhdl_signal_mul_temp = '\\n'.join(vhdl_signal_mul_temp) \n",
    "\n",
    "# Sum template\n",
    "#lambda expression that returns a string with a template\n",
    "vhdl_signal_sum_template = lambda index, NUMBITS: f\"SIGNAL sum{index+1}                             : signed({NUMBITS-1} DOWNTO 0);\"\n",
    "vhdl_signal_sum = [vhdl_signal_sum_template(index, coef) for index, coef in enumerate(range(NUMBER_TAPS-1))]\n",
    "\n",
    "vhdl_signal_add_template = lambda index, NUMBITS: f\"SIGNAL add_temp{'' if index==0 else '_'+str(index)}                             : signed({NUMBITS-1} DOWNTO 0);\"\n",
    "vhdl_add_temp_sum = [vhdl_signal_add_template(index, coef) for index, coef in enumerate(range(NUMBER_TAPS-1))]\n",
    "\n",
    "vhdl_signal_sum = '\\n'.join(vhdl_signal_sum)\n",
    "vhdl_add_temp_sum = '\\n'.join(vhdl_add_temp_sum)\n",
    "\n",
    "\n"
   ]
  },
  {
   "cell_type": "code",
   "execution_count": 66,
   "metadata": {},
   "outputs": [
    {
     "name": "stdout",
     "output_type": "stream",
     "text": [
      "SIGNAL add_temp                             : signed(-1 DOWNTO 0);\n",
      "SIGNAL add_temp_1                             : signed(0 DOWNTO 0);\n",
      "SIGNAL add_temp_2                             : signed(1 DOWNTO 0);\n",
      "SIGNAL add_temp_3                             : signed(2 DOWNTO 0);\n",
      "SIGNAL add_temp_4                             : signed(3 DOWNTO 0);\n",
      "SIGNAL add_temp_5                             : signed(4 DOWNTO 0);\n",
      "SIGNAL add_temp_6                             : signed(5 DOWNTO 0);\n",
      "SIGNAL add_temp_7                             : signed(6 DOWNTO 0);\n",
      "SIGNAL add_temp_8                             : signed(7 DOWNTO 0);\n"
     ]
    }
   ],
   "source": [
    "print(vhdl_add_temp_sum)"
   ]
  },
  {
   "cell_type": "code",
   "execution_count": null,
   "metadata": {},
   "outputs": [],
   "source": [
    "print(vhdl_signal_product)"
   ]
  },
  {
   "cell_type": "code",
   "execution_count": null,
   "metadata": {},
   "outputs": [],
   "source": []
  }
 ],
 "metadata": {
  "kernelspec": {
   "display_name": "base",
   "language": "python",
   "name": "python3"
  },
  "language_info": {
   "codemirror_mode": {
    "name": "ipython",
    "version": 3
   },
   "file_extension": ".py",
   "mimetype": "text/x-python",
   "name": "python",
   "nbconvert_exporter": "python",
   "pygments_lexer": "ipython3",
   "version": "3.8.8"
  },
  "orig_nbformat": 4,
  "vscode": {
   "interpreter": {
    "hash": "4444ce9030fccc2741722026dc4f0e2d504f7342113104e66a1ea701db71ccf8"
   }
  }
 },
 "nbformat": 4,
 "nbformat_minor": 2
}
