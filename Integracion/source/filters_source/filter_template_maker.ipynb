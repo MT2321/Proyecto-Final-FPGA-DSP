{
 "cells": [
  {
   "cell_type": "code",
   "execution_count": 5,
   "metadata": {},
   "outputs": [],
   "source": [
    "NUMBER_TAPS = 10\n",
    "NUMBER_BITS_COEFS = 8\n",
    "NUMBER_BITS_SAMPLES = 12\n",
    "NUMBER_BITS_MULTIPLICATION = 20\n",
    "# NUMBER BITS ADDITION INCREASE WITH EACH STAGE "
   ]
  },
  {
   "cell_type": "code",
   "execution_count": 24,
   "metadata": {},
   "outputs": [],
   "source": [
    "vhdl_components = []\n",
    "vhdl_header = '''\n",
    " LIBRARY IEEE;\n",
    " USE IEEE.std_logic_1164.all;\n",
    " USE IEEE.numeric_std.ALL;\n",
    " \n",
    " ENTITY FIR_IAN IS\n",
    "    PORT( clk                             :   IN    std_logic; \n",
    "          clk_enable                      :   IN    std_logic; \n",
    "          reset                           :   IN    std_logic; \n",
    "          filter_in                       :   IN    std_logic_vector(11 DOWNTO 0); -- sfix16_En15\n",
    "          filter_out                      :   OUT   std_logic_vector(28 DOWNTO 0)  -- sfix33_En31\n",
    "          );\n",
    " \n",
    " END FIR_IAN;\n",
    "'''\n",
    "vhdl_architechture_header = '''\n",
    " ----------------------------------------------------------------\n",
    " --Module Architecture: FIR_IAN\n",
    " ----------------------------------------------------------------\n",
    " ARCHITECTURE rtl OF FIR_IAN IS\n",
    "   -- Local Functions\n",
    "   -- Type Definitions\n",
    "   TYPE delay_pipeline_type IS ARRAY (NATURAL range <>) OF signed(11 DOWNTO 0); -- sfix16_En15\n",
    "   -- Constants\n",
    "   CONSTANT coeff1                         : signed(7 DOWNTO 0) := to_signed(-1, 8); -- sfix16_En16\n",
    "'''\n",
    "# COEFS\n",
    "#lambda expression that returns a string with a template\n",
    "vhdl_coef_template = lambda index, coef: f\"CONSTANT coeff{index}                         : signed({NUMBER_BITS_COEFS-1} DOWNTO 0) := to_signed(REPLACE_ME, {NUMBER_BITS_COEFS});\"\n",
    "vhdl_coefs = [vhdl_coef_template(index, coef) for index, coef in enumerate(range(NUMBER_TAPS))]\n",
    "#join vhdl_coefs a string separated by a new line character\n",
    "vhdl_coefs = '\\n'.join(vhdl_coefs) \n",
    "\n",
    "\n",
    "vhdl_delay_pipeline_template = lambda index: f\"signal delay_pipeline : delay_pipeline_type(0 to {NUMBER_TAPS-1});\"\n",
    "# Product template\n",
    "#lambda expression that returns a string with a template\n",
    "vhdl_signal_product_template = lambda index, coef: f\"SIGNAL product{index}                         : signed({NUMBER_BITS_MULTIPLICATION-1} DOWNTO 0);\"\n",
    "vhdl_signal_product = [vhdl_signal_product_template(index, coef) for index, coef in enumerate(range(NUMBER_TAPS))]\n",
    "vhdl_signal_product = '\\n'.join(vhdl_signal_product) \n",
    "\n",
    "vhdl_signal_mul_temp_template = lambda index, coef: f\"SIGNAL mul_temp{'' if index==0 else '_'+str(index)}                         : signed({NUMBER_BITS_MULTIPLICATION-1} DOWNTO 0);\"\n",
    "vhdl_signal_mul_temp = [vhdl_signal_mul_temp_template(index, coef) for index, coef in enumerate(range(NUMBER_TAPS))]\n",
    "vhdl_signal_mul_temp = '\\n'.join(vhdl_signal_mul_temp) \n",
    "\n",
    "# Sum template\n",
    "#lambda expression that returns a string with a template\n",
    "vhdl_signal_sum_template = lambda index, numbits: f\"SIGNAL sum{index+1}                             : signed({numbits-1} DOWNTO 0);\"\n",
    "vhdl_signal_sum = [vhdl_signal_sum_template(index, NUMBER_BITS_COEFS+NUMBER_BITS_SAMPLES+index+1) for index in range(NUMBER_TAPS-1)]\n",
    "\n",
    "vhdl_signal_add_template = lambda index, numbits: f\"SIGNAL add_temp{'' if index==0 else '_'+str(index)}                             : signed({numbits-1} DOWNTO 0);\"\n",
    "vhdl_add_temp_sum = [vhdl_signal_add_template(index, NUMBER_BITS_COEFS+NUMBER_BITS_SAMPLES+index+1) for index in range(NUMBER_TAPS-1)]\n",
    "\n",
    "vhdl_signal_sum = '\\n'.join(vhdl_signal_sum)\n",
    "vhdl_add_temp_sum = '\\n'.join(vhdl_add_temp_sum)\n",
    "\n",
    "vhdl_output_typeconvert = f\"SIGNAL output_typeconvert               : signed({NUMBER_BITS_COEFS+NUMBER_BITS_SAMPLES+NUMBER_TAPS-2} DOWNTO 0);\"\n",
    "vhdl_output_register = f\"SIGNAL output_typeconvert               : signed({NUMBER_BITS_COEFS+NUMBER_BITS_SAMPLES+NUMBER_TAPS-2} DOWNTO 0);\"\n",
    "\n",
    "vhdl_delay_pipeline_process = '''\n",
    "  -- Block Statements\n",
    "  Delay_Pipeline_process : PROCESS (clk, reset)\n",
    "  BEGIN\n",
    "    IF reset = '1' THEN\n",
    "      delay_pipeline(0 TO 9) <= (OTHERS => (OTHERS => '0'));\n",
    "    ELSIF clk'event AND clk = '1' THEN\n",
    "      IF clk_enable = '1' THEN\n",
    "        delay_pipeline(0) <= signed(filter_in);\n",
    "        delay_pipeline(1 TO 9) <= delay_pipeline(0 TO 8);\n",
    "      END IF;\n",
    "    END IF; \n",
    "  END PROCESS Delay_Pipeline_process;\n",
    "  '''\n",
    "\n",
    "# Multiplications\n",
    "line_1_template = lambda index: f\"mul_temp{'' if index==0 else '_'+str(index)} <= delay_pipeline({NUMBER_TAPS-1-index}) * coeff{NUMBER_TAPS-index}; \\n\"\n",
    "line_2_template = lambda index: f\"product{NUMBER_TAPS-1-index} <= resize(mul_temp{'' if index==0 else '_'+str(index)}, {NUMBER_BITS_MULTIPLICATION}); \\n\"\n",
    "\n",
    "vhdl_multiplications_both_lines = [line_1_template(index) + line_2_template(index)   for index in range(NUMBER_TAPS)]\n",
    "vhdl_multiplications_both_lines = \"\\n\".join(vhdl_multiplications_both_lines)\n",
    "\n",
    "# Sums\n",
    "temp_lambda = lambda index: f\"product{index}\" if index == 0 else f\"sum{index}\" \n",
    "line_1_template = lambda index: f\"add_temp{'' if index==0 else '_'+str(index)} <= resize({temp_lambda(index)}, {NUMBER_BITS_COEFS+NUMBER_BITS_SAMPLES+index+1}) + resize(product{index+1}, {NUMBER_BITS_COEFS+NUMBER_BITS_SAMPLES+index+1}); \\n\"\n",
    "line_2_template = lambda index: f\"sum{index+1} <= resize(add_temp{'' if index==0 else '_'+str(index)}, {NUMBER_BITS_COEFS+NUMBER_BITS_SAMPLES+index+1}); \\n\"\n",
    "\n",
    "vhdl_sums_both_lines = [line_1_template(index) + line_2_template(index)   for index in range(NUMBER_TAPS-1)]\n",
    "vhdl_sums_both_lines = \"\\n\".join(vhdl_sums_both_lines)\n"
   ]
  },
  {
   "cell_type": "code",
   "execution_count": 25,
   "metadata": {},
   "outputs": [
    {
     "name": "stdout",
     "output_type": "stream",
     "text": [
      "add_temp <= resize(product0, 21) + resize(product1, 21); \n",
      "sum1 <= resize(add_temp, 21); \n",
      "\n",
      "add_temp_1 <= resize(sum1, 22) + resize(product2, 22); \n",
      "sum2 <= resize(add_temp_1, 22); \n",
      "\n",
      "add_temp_2 <= resize(sum2, 23) + resize(product3, 23); \n",
      "sum3 <= resize(add_temp_2, 23); \n",
      "\n",
      "add_temp_3 <= resize(sum3, 24) + resize(product4, 24); \n",
      "sum4 <= resize(add_temp_3, 24); \n",
      "\n",
      "add_temp_4 <= resize(sum4, 25) + resize(product5, 25); \n",
      "sum5 <= resize(add_temp_4, 25); \n",
      "\n",
      "add_temp_5 <= resize(sum5, 26) + resize(product6, 26); \n",
      "sum6 <= resize(add_temp_5, 26); \n",
      "\n",
      "add_temp_6 <= resize(sum6, 27) + resize(product7, 27); \n",
      "sum7 <= resize(add_temp_6, 27); \n",
      "\n",
      "add_temp_7 <= resize(sum7, 28) + resize(product8, 28); \n",
      "sum8 <= resize(add_temp_7, 28); \n",
      "\n",
      "add_temp_8 <= resize(sum8, 29) + resize(product9, 29); \n",
      "sum9 <= resize(add_temp_8, 29); \n",
      "\n"
     ]
    }
   ],
   "source": [
    "print(vhdl_sums_both_lines)"
   ]
  },
  {
   "cell_type": "code",
   "execution_count": 26,
   "metadata": {},
   "outputs": [
    {
     "name": "stdout",
     "output_type": "stream",
     "text": [
      "SIGNAL add_temp                             : signed(20 DOWNTO 0);\n",
      "SIGNAL add_temp_1                             : signed(21 DOWNTO 0);\n",
      "SIGNAL add_temp_2                             : signed(22 DOWNTO 0);\n",
      "SIGNAL add_temp_3                             : signed(23 DOWNTO 0);\n",
      "SIGNAL add_temp_4                             : signed(24 DOWNTO 0);\n",
      "SIGNAL add_temp_5                             : signed(25 DOWNTO 0);\n",
      "SIGNAL add_temp_6                             : signed(26 DOWNTO 0);\n",
      "SIGNAL add_temp_7                             : signed(27 DOWNTO 0);\n",
      "SIGNAL add_temp_8                             : signed(28 DOWNTO 0);\n"
     ]
    }
   ],
   "source": [
    "print(vhdl_add_temp_sum)"
   ]
  },
  {
   "cell_type": "code",
   "execution_count": 27,
   "metadata": {},
   "outputs": [
    {
     "name": "stdout",
     "output_type": "stream",
     "text": [
      "SIGNAL product0                         : signed(19 DOWNTO 0);\n",
      "SIGNAL product1                         : signed(19 DOWNTO 0);\n",
      "SIGNAL product2                         : signed(19 DOWNTO 0);\n",
      "SIGNAL product3                         : signed(19 DOWNTO 0);\n",
      "SIGNAL product4                         : signed(19 DOWNTO 0);\n",
      "SIGNAL product5                         : signed(19 DOWNTO 0);\n",
      "SIGNAL product6                         : signed(19 DOWNTO 0);\n",
      "SIGNAL product7                         : signed(19 DOWNTO 0);\n",
      "SIGNAL product8                         : signed(19 DOWNTO 0);\n",
      "SIGNAL product9                         : signed(19 DOWNTO 0);\n"
     ]
    }
   ],
   "source": [
    "print(vhdl_signal_product)"
   ]
  },
  {
   "cell_type": "code",
   "execution_count": null,
   "metadata": {},
   "outputs": [],
   "source": []
  }
 ],
 "metadata": {
  "kernelspec": {
   "display_name": "base",
   "language": "python",
   "name": "python3"
  },
  "language_info": {
   "codemirror_mode": {
    "name": "ipython",
    "version": 3
   },
   "file_extension": ".py",
   "mimetype": "text/x-python",
   "name": "python",
   "nbconvert_exporter": "python",
   "pygments_lexer": "ipython3",
   "version": "3.8.8"
  },
  "orig_nbformat": 4,
  "vscode": {
   "interpreter": {
    "hash": "4444ce9030fccc2741722026dc4f0e2d504f7342113104e66a1ea701db71ccf8"
   }
  }
 },
 "nbformat": 4,
 "nbformat_minor": 2
}
